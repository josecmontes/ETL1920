{
 "cells": [
  {
   "cell_type": "markdown",
   "metadata": {},
   "source": [
    "# Examen ETL: SPARK 02/02"
   ]
  },
  {
   "cell_type": "code",
   "execution_count": 252,
   "metadata": {
    "collapsed": true
   },
   "outputs": [],
   "source": [
    "sc.stop()"
   ]
  },
  {
   "cell_type": "markdown",
   "metadata": {},
   "source": [
    "Se podrá utilizar toda la información que se encuentra en el campus. \n",
    "\n",
    "El fichero de datos sobre el que se trabajará es el de partidosLigaNBA.txt.\n",
    "\n",
    "A cada una de las preguntas hay que responder explicando brevemente que se pretende hacer antes de lanzar el código.\n",
    "\n",
    "Al documento lo llamareís con vuestro nombre y apellido. Debeís enviarlo a mi correo de CUNEF antes del final del examen.\n",
    "\n",
    "El lenguaje para trabajar con Spark podrá ser python o R indistintamente."
   ]
  },
  {
   "cell_type": "markdown",
   "metadata": {},
   "source": [
    "## Primera pregunta: Describe brevemente que diferencia el persists, cache y collect en spark. Explica brevemente casos en los que es interesante su aplicación"
   ]
  },
  {
   "cell_type": "code",
   "execution_count": null,
   "metadata": {
    "collapsed": true
   },
   "outputs": [],
   "source": []
  },
  {
   "cell_type": "markdown",
   "metadata": {},
   "source": [
    "## Segunda pregunta: Explica brevemente los pasos a seguir para realizar la carga de un conjunto de datos (pasos que se siguieron en la práctica con datos de logs)"
   ]
  },
  {
   "cell_type": "code",
   "execution_count": null,
   "metadata": {
    "collapsed": true
   },
   "outputs": [],
   "source": []
  },
  {
   "cell_type": "markdown",
   "metadata": {},
   "source": [
    "## Tercera Pregunta: Índica un tipo de problema que puede empeorar los datos. (pe. Que no exista un representante del CDO en todas las áreas de negocio), pon algún ejemplo específico (pe. Datos duplicados) y cómo lo tratarías con técnicas de data cleaning."
   ]
  },
  {
   "cell_type": "code",
   "execution_count": null,
   "metadata": {
    "collapsed": true
   },
   "outputs": [],
   "source": []
  },
  {
   "cell_type": "markdown",
   "metadata": {},
   "source": [
    "## Cuarta tarea: Inicializar spark context y cargar los datos desde el fichero."
   ]
  },
  {
   "cell_type": "code",
   "execution_count": 253,
   "metadata": {
    "collapsed": true
   },
   "outputs": [],
   "source": [
    "from pyspark import SparkContext\n",
    "sc = SparkContext()"
   ]
  },
  {
   "cell_type": "code",
   "execution_count": 254,
   "metadata": {
    "collapsed": false
   },
   "outputs": [
    {
     "data": {
      "text/plain": [
       "['Date:Start..ET.:Visitor.Neutral:PTS:Home.Neutral:PTS.1',\n",
       " 'Tue, Oct 30, 2007:\"7:30 pm\":Utah Jazz:117:Golden State Warriors:96',\n",
       " 'Tue, Oct 30, 2007:\"7:30 pm\":Houston Rockets:95:Los Angeles Lakers:93',\n",
       " 'Tue, Oct 30, 2007:\"7:00 pm\":Portland Trail Blazers:97:San Antonio Spurs:106',\n",
       " 'Wed, Oct 31, 2007:\"8:00 pm\":Dallas Mavericks:92:Cleveland Cavaliers:74',\n",
       " 'Wed, Oct 31, 2007:\"8:30 pm\":Seattle SuperSonics:103:Denver Nuggets:120',\n",
       " 'Wed, Oct 31, 2007:\"7:00 pm\":Washington Wizards:110:Indiana Pacers:119',\n",
       " 'Wed, Oct 31, 2007:\"7:00 pm\":San Antonio Spurs:104:Memphis Grizzlies:101',\n",
       " 'Wed, Oct 31, 2007:\"7:30 pm\":Chicago Bulls:103:New Jersey Nets:112',\n",
       " 'Wed, Oct 31, 2007:\"7:00 pm\":Sacramento Kings:90:New Orleans Hornets:104']"
      ]
     },
     "execution_count": 254,
     "metadata": {},
     "output_type": "execute_result"
    }
   ],
   "source": [
    "NBA = sc.textFile(\"partidosLigaNBA.csv\",)\n",
    "NBA.take(10)"
   ]
  },
  {
   "cell_type": "code",
   "execution_count": 279,
   "metadata": {
    "collapsed": false
   },
   "outputs": [],
   "source": [
    "NBA_filteres = NBA.filter(lambda x: x!= 'Date:Start..ET.:Visitor.Neutral:PTS:Home.Neutral:PTS.1')\n",
    "NBA_filteres2 = NBA_filteres.filter(lambda x: x!= 'Playoffs:Playoffs:Playoffs:Playoffs:Playoffs:Playoffs')"
   ]
  },
  {
   "cell_type": "code",
   "execution_count": 294,
   "metadata": {
    "collapsed": false
   },
   "outputs": [],
   "source": [
    "NBA_parse_tempo = NBA_filteres2.map(lambda x: (x[0:27], x.split(':')))"
   ]
  },
  {
   "cell_type": "code",
   "execution_count": 295,
   "metadata": {
    "collapsed": false
   },
   "outputs": [
    {
     "data": {
      "text/plain": [
       "[('Tue, Oct 30, 2007:\"7:30 pm\"',\n",
       "  ['Tue, Oct 30, 2007',\n",
       "   '\"7',\n",
       "   '30 pm\"',\n",
       "   'Utah Jazz',\n",
       "   '117',\n",
       "   'Golden State Warriors',\n",
       "   '96']),\n",
       " ('Tue, Oct 30, 2007:\"7:30 pm\"',\n",
       "  ['Tue, Oct 30, 2007',\n",
       "   '\"7',\n",
       "   '30 pm\"',\n",
       "   'Houston Rockets',\n",
       "   '95',\n",
       "   'Los Angeles Lakers',\n",
       "   '93'])]"
      ]
     },
     "execution_count": 295,
     "metadata": {},
     "output_type": "execute_result"
    }
   ],
   "source": [
    "NBA_parse_tempo.take(2)"
   ]
  },
  {
   "cell_type": "code",
   "execution_count": 296,
   "metadata": {
    "collapsed": false
   },
   "outputs": [],
   "source": [
    "NBA_parse1 = NBA_parse_tempo.map(lambda x: (x[0], x[1][3], x[1][4],x[1][5],x[1][6]))\n",
    "NBA_parse = NBA_parse1.map(lambda x: (x[0].split(','),x[1],x[2],x[3],x[4]))"
   ]
  },
  {
   "cell_type": "code",
   "execution_count": 297,
   "metadata": {
    "collapsed": false
   },
   "outputs": [
    {
     "data": {
      "text/plain": [
       "[(['Tue', ' Oct 30', ' 2007:\"7:30 pm\"'],\n",
       "  'Utah Jazz',\n",
       "  '117',\n",
       "  'Golden State Warriors',\n",
       "  '96'),\n",
       " (['Tue', ' Oct 30', ' 2007:\"7:30 pm\"'],\n",
       "  'Houston Rockets',\n",
       "  '95',\n",
       "  'Los Angeles Lakers',\n",
       "  '93'),\n",
       " (['Tue', ' Oct 30', ' 2007:\"7:00 pm\"'],\n",
       "  'Portland Trail Blazers',\n",
       "  '97',\n",
       "  'San Antonio Spurs',\n",
       "  '106'),\n",
       " (['Wed', ' Oct 31', ' 2007:\"8:00 pm\"'],\n",
       "  'Dallas Mavericks',\n",
       "  '92',\n",
       "  'Cleveland Cavaliers',\n",
       "  '74'),\n",
       " (['Wed', ' Oct 31', ' 2007:\"8:30 pm\"'],\n",
       "  'Seattle SuperSonics',\n",
       "  '103',\n",
       "  'Denver Nuggets',\n",
       "  '120'),\n",
       " (['Wed', ' Oct 31', ' 2007:\"7:00 pm\"'],\n",
       "  'Washington Wizards',\n",
       "  '110',\n",
       "  'Indiana Pacers',\n",
       "  '119'),\n",
       " (['Wed', ' Oct 31', ' 2007:\"7:00 pm\"'],\n",
       "  'San Antonio Spurs',\n",
       "  '104',\n",
       "  'Memphis Grizzlies',\n",
       "  '101'),\n",
       " (['Wed', ' Oct 31', ' 2007:\"7:30 pm\"'],\n",
       "  'Chicago Bulls',\n",
       "  '103',\n",
       "  'New Jersey Nets',\n",
       "  '112'),\n",
       " (['Wed', ' Oct 31', ' 2007:\"7:00 pm\"'],\n",
       "  'Sacramento Kings',\n",
       "  '90',\n",
       "  'New Orleans Hornets',\n",
       "  '104'),\n",
       " (['Wed', ' Oct 31', ' 2007:\"7:00 pm\"'],\n",
       "  'Milwaukee Bucks',\n",
       "  '83',\n",
       "  'Orlando Magic',\n",
       "  '102')]"
      ]
     },
     "execution_count": 297,
     "metadata": {},
     "output_type": "execute_result"
    }
   ],
   "source": [
    "NBA_parse.take(10)"
   ]
  },
  {
   "cell_type": "markdown",
   "metadata": {},
   "source": [
    "## Quinta tarea: Media de la diferencia de puntos por año"
   ]
  },
  {
   "cell_type": "code",
   "execution_count": 299,
   "metadata": {
    "collapsed": false,
    "scrolled": true
   },
   "outputs": [
    {
     "data": {
      "text/plain": [
       "[('2007', (21, 1)),\n",
       " ('2007', (2, 1)),\n",
       " ('2007', (9, 1)),\n",
       " ('2007', (18, 1)),\n",
       " ('2007', (17, 1)),\n",
       " ('2007', (9, 1)),\n",
       " ('2007', (3, 1)),\n",
       " ('2007', (9, 1)),\n",
       " ('2007', (14, 1)),\n",
       " ('2007', (19, 1))]"
      ]
     },
     "execution_count": 299,
     "metadata": {},
     "output_type": "execute_result"
    }
   ],
   "source": [
    "NBA_year_diff = NBA_parse.map(lambda x: (x[0][2][1:5], (int(abs(float(x[2])-float(x[4]))), 1)))\n",
    "NBA_year_diff.take(10)"
   ]
  },
  {
   "cell_type": "code",
   "execution_count": 300,
   "metadata": {
    "collapsed": false
   },
   "outputs": [
    {
     "data": {
      "text/plain": [
       "[('2017', 11.422166874221668),\n",
       " ('2013', 11.071752265861027),\n",
       " ('2016', 11.550637659414853),\n",
       " ('2011', 10.661016949152541),\n",
       " ('2014', 10.9047976011994),\n",
       " ('2008', 11.543543543543544),\n",
       " ('2007', 11.096491228070175),\n",
       " ('2015', 11.159969673995452),\n",
       " ('2009', 11.090425531914894),\n",
       " ('2010', 10.86903860711582),\n",
       " ('2012', 10.845318860244234)]"
      ]
     },
     "execution_count": 300,
     "metadata": {},
     "output_type": "execute_result"
    }
   ],
   "source": [
    "NBA_year_diff_2 = NBA_year_diff.reduceByKey(lambda x,y: (x[0]+y[0], x[1]+y[1])).map(lambda x: (x[0], x[1][0]/x[1][1]))\n",
    "NBA_year_diff_2.take(15)"
   ]
  },
  {
   "cell_type": "markdown",
   "metadata": {},
   "source": [
    "## Sexta tarea: ¿Han judado todos los equipos el mismo número de partidos? ¿ Si es qué no a que puede deberse?"
   ]
  },
  {
   "cell_type": "code",
   "execution_count": 319,
   "metadata": {
    "collapsed": false
   },
   "outputs": [],
   "source": [
    "NBA_Team = NBA_parse.map(lambda x: (x[1],1)).reduceByKey(lambda x,y: x+y).join(\n",
    "    NBA_parse.map(lambda x: (x[3],1)).reduceByKey(lambda x,y: x+y))"
   ]
  },
  {
   "cell_type": "code",
   "execution_count": 326,
   "metadata": {
    "collapsed": false
   },
   "outputs": [
    {
     "data": {
      "text/plain": [
       "[('New Orleans Pelicans', 332),\n",
       " ('Charlotte Hornets', 254),\n",
       " ('Phoenix Suns', 826),\n",
       " ('New Jersey Nets', 394),\n",
       " ('Golden State Warriors', 880),\n",
       " ('Brooklyn Nets', 436),\n",
       " ('Milwaukee Bucks', 828),\n",
       " ('San Antonio Spurs', 932),\n",
       " ('Toronto Raptors', 848),\n",
       " ('New Orleans Hornets', 498),\n",
       " ('Utah Jazz', 848),\n",
       " ('Los Angeles Lakers', 894),\n",
       " ('Indiana Pacers', 868),\n",
       " ('Houston Rockets', 868),\n",
       " ('Dallas Mavericks', 872),\n",
       " ('Oklahoma City Thunder', 816),\n",
       " ('Washington Wizards', 846),\n",
       " ('Cleveland Cavaliers', 904),\n",
       " ('Memphis Grizzlies', 868),\n",
       " ('Chicago Bulls', 874),\n",
       " ('Denver Nuggets', 848),\n",
       " ('Portland Trail Blazers', 856),\n",
       " ('Miami Heat', 912),\n",
       " ('Seattle SuperSonics', 82),\n",
       " ('Sacramento Kings', 804),\n",
       " ('Philadelphia 76ers', 836),\n",
       " ('New York Knicks', 826),\n",
       " ('Orlando Magic', 864),\n",
       " ('Boston Celtics', 926),\n",
       " ('Atlanta Hawks', 896),\n",
       " ('Detroit Pistons', 828),\n",
       " ('Minnesota Timberwolves', 804),\n",
       " ('Charlotte Bobcats', 566),\n",
       " ('Los Angeles Clippers', 860)]"
      ]
     },
     "execution_count": 326,
     "metadata": {},
     "output_type": "execute_result"
    }
   ],
   "source": [
    "NBA_Team.map(lambda x: (x[0], x[1][0]+x[1][0])).collect()"
   ]
  },
  {
   "cell_type": "markdown",
   "metadata": {},
   "source": [
    "## Séptima pregunta: ¿Cuantos partidos ha ganado en Enero Clevelant?"
   ]
  },
  {
   "cell_type": "code",
   "execution_count": 332,
   "metadata": {
    "collapsed": false
   },
   "outputs": [],
   "source": [
    "NBA_Cleveland_visit = NBA_parse.filter(lambda x: 'Jan' in x[0][1]).filter(lambda x: x[1] == 'Cleveland Cavaliers')\n",
    "NBA_Cleveland_home = NBA_parse.filter(lambda x: 'Jan' in x[0][1]).filter(lambda x: x[3] == 'Cleveland Cavaliers')"
   ]
  },
  {
   "cell_type": "code",
   "execution_count": 341,
   "metadata": {
    "collapsed": false
   },
   "outputs": [],
   "source": [
    "NBA_Cleveland_visit_win = NBA_Cleveland_visit.filter(lambda x: int(x[2])>int(x[4]))\n",
    "NBA_Cleveland_home_win = NBA_Cleveland_home.filter(lambda x: int(x[4])>int(x[2]))"
   ]
  },
  {
   "cell_type": "code",
   "execution_count": 344,
   "metadata": {
    "collapsed": false
   },
   "outputs": [
    {
     "data": {
      "text/plain": [
       "[(['Wed', ' Jan 2', ' 2008:\"7:00 pm\":'],\n",
       "  'Atlanta Hawks',\n",
       "  '94',\n",
       "  'Cleveland Cavaliers',\n",
       "  '98')]"
      ]
     },
     "execution_count": 344,
     "metadata": {},
     "output_type": "execute_result"
    }
   ],
   "source": [
    "NBA_Cleveland_home_win.take(1)"
   ]
  },
  {
   "cell_type": "code",
   "execution_count": 343,
   "metadata": {
    "collapsed": false
   },
   "outputs": [
    {
     "data": {
      "text/plain": [
       "83"
      ]
     },
     "execution_count": 343,
     "metadata": {},
     "output_type": "execute_result"
    }
   ],
   "source": [
    "NBA_Cleveland_home_win.count()+NBA_Cleveland_visit_win.count()"
   ]
  },
  {
   "cell_type": "markdown",
   "metadata": {},
   "source": [
    "## Octava pregunta: ¿Los Warrios son mejores fuera de casa o en casa?"
   ]
  },
  {
   "cell_type": "code",
   "execution_count": 355,
   "metadata": {
    "collapsed": false
   },
   "outputs": [
    {
     "name": "stdout",
     "output_type": "stream",
     "text": [
      "Los Warrios han ganado 215 de visitantes\n"
     ]
    }
   ],
   "source": [
    "print(\"Los Warrios han ganado\",\n",
    "      NBA_parse.filter(lambda x: x[1] == 'Golden State Warriors').filter(lambda x: int(x[2])>int(x[4])).count(),\n",
    "      \"de visitantes\")"
   ]
  },
  {
   "cell_type": "code",
   "execution_count": 356,
   "metadata": {
    "collapsed": false
   },
   "outputs": [
    {
     "name": "stdout",
     "output_type": "stream",
     "text": [
      "Por otro lado, Warrios han ganado 308 en casa, por lo cual son mejores en casa\n"
     ]
    }
   ],
   "source": [
    "print(\"Por otro lado, Warrios han ganado\", \n",
    "      NBA_parse.filter(lambda x: x[3] == 'Golden State Warriors').filter(lambda x: int(x[4])>int(x[2])).count(), \n",
    "      \"en casa, por lo cual son mejores en casa\")"
   ]
  },
  {
   "cell_type": "markdown",
   "metadata": {},
   "source": [
    "## Novena pregunta: Equipo que ha quedado primerio en victorias más temporadas. (si es que hay alguno que más)"
   ]
  },
  {
   "cell_type": "code",
   "execution_count": 357,
   "metadata": {
    "collapsed": false
   },
   "outputs": [
    {
     "data": {
      "text/plain": [
       "[(['Tue', ' Oct 30', ' 2007:\"7:30 pm\"'],\n",
       "  'Utah Jazz',\n",
       "  '117',\n",
       "  'Golden State Warriors',\n",
       "  '96')]"
      ]
     },
     "execution_count": 357,
     "metadata": {},
     "output_type": "execute_result"
    }
   ],
   "source": [
    "NBA_parse.take(1)"
   ]
  },
  {
   "cell_type": "code",
   "execution_count": 370,
   "metadata": {
    "collapsed": false
   },
   "outputs": [
    {
     "data": {
      "text/plain": [
       "[(('2007', 'Utah Jazz'), 1),\n",
       " (('2007', 'Houston Rockets'), 1),\n",
       " (('2007', 'Dallas Mavericks'), 1),\n",
       " (('2007', 'San Antonio Spurs'), 1),\n",
       " (('2007', 'Detroit Pistons'), 1),\n",
       " (('2007', 'Phoenix Suns'), 1),\n",
       " (('2007', 'Houston Rockets'), 1),\n",
       " (('2007', 'Philadelphia 76ers'), 1),\n",
       " (('2007', 'Denver Nuggets'), 1),\n",
       " (('2007', 'Toronto Raptors'), 1)]"
      ]
     },
     "execution_count": 370,
     "metadata": {},
     "output_type": "execute_result"
    }
   ],
   "source": [
    "# Primero filtramos ganadores como vitisantes por año\n",
    "NBA_year_winner_visit = NBA_parse.filter(lambda x: int(x[2])>int(x[4])).map(lambda x: ((x[0][2][1:5], x[1]), 1))\n",
    "NBA_year_winner_visit.take(10)"
   ]
  },
  {
   "cell_type": "code",
   "execution_count": 372,
   "metadata": {
    "collapsed": false
   },
   "outputs": [
    {
     "data": {
      "text/plain": [
       "[(('2007', 'San Antonio Spurs'), 1),\n",
       " (('2007', 'Denver Nuggets'), 1),\n",
       " (('2007', 'Indiana Pacers'), 1),\n",
       " (('2007', 'New Jersey Nets'), 1),\n",
       " (('2007', 'New Orleans Hornets'), 1),\n",
       " (('2007', 'Orlando Magic'), 1),\n",
       " (('2007', 'Toronto Raptors'), 1),\n",
       " (('2007', 'Atlanta Hawks'), 1),\n",
       " (('2007', 'Boston Celtics'), 1),\n",
       " (('2007', 'Charlotte Bobcats'), 1)]"
      ]
     },
     "execution_count": 372,
     "metadata": {},
     "output_type": "execute_result"
    }
   ],
   "source": [
    "# Ahora filtramos por ganadores en casa\n",
    "NBA_year_winner_home = NBA_parse.filter(lambda x: int(x[4])>int(x[2])).map(lambda x: ((x[0][2][1:5], x[3]),1))\n",
    "NBA_year_winner_home.take(10)"
   ]
  },
  {
   "cell_type": "code",
   "execution_count": 374,
   "metadata": {
    "collapsed": false
   },
   "outputs": [],
   "source": [
    "NBA_year_winner_visit_sum = NBA_year_winner_visit.reduceByKey(lambda x,y: x+y)\n",
    "NBA_year_winner_home_sum = NBA_year_winner_home.reduceByKey(lambda x,y: x+y)"
   ]
  },
  {
   "cell_type": "code",
   "execution_count": 378,
   "metadata": {
    "collapsed": false
   },
   "outputs": [
    {
     "data": {
      "text/plain": [
       "[(('2013', 'Los Angeles Clippers'), (32, 22)),\n",
       " (('2013', 'Indiana Pacers'), (43, 24)),\n",
       " (('2012', 'Minnesota Timberwolves'), (22, 18)),\n",
       " (('2007', 'Atlanta Hawks'), (10, 5)),\n",
       " (('2007', 'Sacramento Kings'), (8, 3)),\n",
       " (('2017', 'Dallas Mavericks'), (15, 8)),\n",
       " (('2016', 'Brooklyn Nets'), (15, 5)),\n",
       " (('2007', 'Dallas Mavericks'), (14, 6)),\n",
       " (('2010', 'San Antonio Spurs'), (36, 27)),\n",
       " (('2011', 'New Orleans Hornets'), (17, 14))]"
      ]
     },
     "execution_count": 378,
     "metadata": {},
     "output_type": "execute_result"
    }
   ],
   "source": [
    "NBA_year_winner = NBA_year_winner_home_sum.join(NBA_year_winner_visit_sum)\n",
    "NBA_year_winner.take(10)"
   ]
  },
  {
   "cell_type": "code",
   "execution_count": 385,
   "metadata": {
    "collapsed": false
   },
   "outputs": [
    {
     "data": {
      "text/plain": [
       "[('2013', 'Los Angeles Clippers', 54),\n",
       " ('2013', 'Indiana Pacers', 67),\n",
       " ('2012', 'Minnesota Timberwolves', 40),\n",
       " ('2007', 'Atlanta Hawks', 15),\n",
       " ('2007', 'Sacramento Kings', 11),\n",
       " ('2017', 'Dallas Mavericks', 23),\n",
       " ('2016', 'Brooklyn Nets', 20),\n",
       " ('2007', 'Dallas Mavericks', 20),\n",
       " ('2010', 'San Antonio Spurs', 63),\n",
       " ('2011', 'New Orleans Hornets', 31)]"
      ]
     },
     "execution_count": 385,
     "metadata": {},
     "output_type": "execute_result"
    }
   ],
   "source": [
    "NBA_year_winner_count = NBA_year_winner.map(lambda x: (x[0][0],x[0][1],(x[1][0]+x[1][1])))\n",
    "NBA_year_winner_count.take(10)"
   ]
  },
  {
   "cell_type": "code",
   "execution_count": 388,
   "metadata": {
    "collapsed": false
   },
   "outputs": [
    {
     "data": {
      "text/plain": [
       "[('2013', 54),\n",
       " ('2013', 67),\n",
       " ('2012', 40),\n",
       " ('2007', 15),\n",
       " ('2007', 11),\n",
       " ('2017', 23),\n",
       " ('2016', 20),\n",
       " ('2007', 20),\n",
       " ('2010', 63),\n",
       " ('2011', 31)]"
      ]
     },
     "execution_count": 388,
     "metadata": {},
     "output_type": "execute_result"
    }
   ],
   "source": [
    "NBA_year_count = NBA_year_winner_count.map(lambda x: (x[0],x[2]))\n",
    "NBA_year_count.take(10)"
   ]
  },
  {
   "cell_type": "code",
   "execution_count": 405,
   "metadata": {
    "collapsed": false,
    "scrolled": true
   },
   "outputs": [
    {
     "data": {
      "text/plain": [
       "[(('2017', 54), ''),\n",
       " (('2013', 85), ''),\n",
       " (('2011', 53), ''),\n",
       " (('2016', 87), ''),\n",
       " (('2014', 73), ''),\n",
       " (('2008', 84), ''),\n",
       " (('2007', 26), ''),\n",
       " (('2015', 88), ''),\n",
       " (('2009', 81), ''),\n",
       " (('2010', 71), ''),\n",
       " (('2012', 82), '')]"
      ]
     },
     "execution_count": 405,
     "metadata": {},
     "output_type": "execute_result"
    }
   ],
   "source": [
    "NBA_year_count_max = NBA_year_count.reduceByKey(max).map(lambda x: ((x[0],x[1]),''))\n",
    "NBA_year_count_max.collect()"
   ]
  },
  {
   "cell_type": "code",
   "execution_count": 414,
   "metadata": {
    "collapsed": false,
    "scrolled": true
   },
   "outputs": [
    {
     "data": {
      "text/plain": [
       "[(('2013', 54), 'Los Angeles Clippers'),\n",
       " (('2013', 67), 'Indiana Pacers'),\n",
       " (('2012', 40), 'Minnesota Timberwolves'),\n",
       " (('2007', 15), 'Atlanta Hawks'),\n",
       " (('2007', 11), 'Sacramento Kings'),\n",
       " (('2017', 23), 'Dallas Mavericks'),\n",
       " (('2016', 20), 'Brooklyn Nets'),\n",
       " (('2007', 20), 'Dallas Mavericks'),\n",
       " (('2010', 63), 'San Antonio Spurs'),\n",
       " (('2011', 31), 'New Orleans Hornets')]"
      ]
     },
     "execution_count": 414,
     "metadata": {},
     "output_type": "execute_result"
    }
   ],
   "source": [
    "NBA_year_count_key = NBA_year_winner_count.map(lambda x: ((x[0], x[2]), x[1]))\n",
    "NBA_year_count_key.take(10)"
   ]
  },
  {
   "cell_type": "code",
   "execution_count": 412,
   "metadata": {
    "collapsed": false
   },
   "outputs": [
    {
     "data": {
      "text/plain": [
       "[(('2009', 81), ('', 'Los Angeles Lakers')),\n",
       " (('2007', 26), ('', 'Boston Celtics')),\n",
       " (('2015', 88), ('', 'Golden State Warriors')),\n",
       " (('2012', 82), ('', 'San Antonio Spurs')),\n",
       " (('2017', 54), ('', 'Golden State Warriors')),\n",
       " (('2010', 71), ('', 'Los Angeles Lakers')),\n",
       " (('2008', 84), ('', 'Boston Celtics')),\n",
       " (('2014', 73), ('', 'San Antonio Spurs')),\n",
       " (('2016', 87), ('', 'Golden State Warriors')),\n",
       " (('2013', 85), ('', 'Miami Heat')),\n",
       " (('2011', 53), ('', 'Chicago Bulls'))]"
      ]
     },
     "execution_count": 412,
     "metadata": {},
     "output_type": "execute_result"
    }
   ],
   "source": [
    "NBA_year_count_max.join(NBA_year_count_key).collect()"
   ]
  },
  {
   "cell_type": "markdown",
   "metadata": {},
   "source": [
    "##  Décima pregunta: Escribe la expresión regular correcta que sólo macheen los teléfonos y el correo del siguiente texto."
   ]
  },
  {
   "cell_type": "markdown",
   "metadata": {},
   "source": [
    "Si eres cliente y necesitas información sobre tus posiciones, productos o realizar operaciones: Desde España. Desde el extranjero. Banca telefónica en castellano. Bandera castellano. 902 13 23 13. Banca telefónica en catalán. Bandera catalana. 902 88 30 08. Banca telefónica en inglés. Bandera inglesa. 902 88 88 35. O por correo electrónico a atencioncliente@bankinter.com"
   ]
  },
  {
   "cell_type": "code",
   "execution_count": null,
   "metadata": {
    "collapsed": true
   },
   "outputs": [],
   "source": [
    "\"Si eres cliente y necesitas información sobre tus posiciones, productos o realizar operaciones: Desde España. Desde el extranjero. Banca telefónica en castellano. Bandera castellano. 902 13 23 13. Banca telefónica en catalán. Bandera catalana. 902 88 30 08. Banca telefónica en inglés. Bandera inglesa. 902 88 88 35. O por correo electrónico a atencioncliente@bankinter.com\""
   ]
  },
  {
   "cell_type": "code",
   "execution_count": null,
   "metadata": {
    "collapsed": true
   },
   "outputs": [],
   "source": [
    "(\\w\\w\\w\\s\\w\\w\\s\\w\\w\\s\\w\\w)"
   ]
  }
 ],
 "metadata": {
  "kernelspec": {
   "display_name": "Python 3",
   "language": "python",
   "name": "python3"
  },
  "language_info": {
   "codemirror_mode": {
    "name": "ipython",
    "version": 3
   },
   "file_extension": ".py",
   "mimetype": "text/x-python",
   "name": "python",
   "nbconvert_exporter": "python",
   "pygments_lexer": "ipython3",
   "version": "3.5.2"
  }
 },
 "nbformat": 4,
 "nbformat_minor": 2
}
